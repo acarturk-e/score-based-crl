{
 "cells": [
  {
   "cell_type": "code",
   "execution_count": 121,
   "metadata": {},
   "outputs": [],
   "source": [
    "import os\n",
    "import pickle\n",
    "\n",
    "import numpy as np\n",
    "import numpy.typing as npt\n",
    "import torch\n",
    "from torch import Tensor\n",
    "\n",
    "from autoencoders import DenseAutoencoder, DenseAutoencoder2\n",
    "from scm.box import BoxSCM\n",
    "\n",
    "import utils"
   ]
  },
  {
   "cell_type": "code",
   "execution_count": 122,
   "metadata": {},
   "outputs": [],
   "source": [
    "data_dir = \"data1\"\n",
    "latent_dim = 64"
   ]
  },
  {
   "cell_type": "code",
   "execution_count": 123,
   "metadata": {},
   "outputs": [
    {
     "name": "stdout",
     "output_type": "stream",
     "text": [
      "Loaded z and x data.\n",
      "zs_obs.shape = torch.Size([10000, 6]), xs_obs.shape = torch.Size([10000, 3, 64, 64])\n"
     ]
    }
   ],
   "source": [
    "# Load data generation config\n",
    "with open(\n",
    "    os.path.join(data_dir, \"generate_data_cfg.pkl\"),\n",
    "    \"rb\", pickle.HIGHEST_PROTOCOL\n",
    ") as f:\n",
    "    data = pickle.load(f)\n",
    "\n",
    "num_balls: int = data[\"num_balls\"]\n",
    "n: int = data[\"n\"]\n",
    "degree: int = data[\"degree\"]\n",
    "box_size: int = data[\"box_size\"]\n",
    "intervention_order: npt.NDArray[np.int_] = data[\"intervention_order\"]\n",
    "n_samples: int = data[\"n_samples\"]\n",
    "width: int = data[\"width\"]\n",
    "height: int = data[\"height\"]\n",
    "ball_radius: int = data[\"ball_radius\"]\n",
    "# data_dir = data[\"data_dir\"]  # DON'T!! we are supplying this\n",
    "scm: BoxSCM = data[\"scm\"]\n",
    "\n",
    "# Ground truth graph\n",
    "# Note the permutation by the intervention order\n",
    "dag_gt = scm.adj_mat\n",
    "dag_gt = dag_gt[intervention_order, :][:, intervention_order]\n",
    "\n",
    "# Load z and x data\n",
    "data = np.load(os.path.join(data_dir, \"z_and_x.npz\"))\n",
    "zs_obs = data[\"zs_obs\"]\n",
    "xs_obs = data[\"xs_obs\"]\n",
    "zs_obs = torch.from_numpy(zs_obs).float()\n",
    "xs_obs = torch.from_numpy(xs_obs).float().moveaxis(-1, -3) / 255.0\n",
    "print(f\"Loaded z and x data.\")\n",
    "print(f\"{zs_obs.shape = }, {xs_obs.shape = }\")"
   ]
  },
  {
   "cell_type": "code",
   "execution_count": 124,
   "metadata": {},
   "outputs": [],
   "source": [
    "# Load the trained autoencoder step 1\n",
    "autoenc1 = DenseAutoencoder(latent_dim)\n",
    "autoenc1.load_state_dict(torch.load(os.path.join(data_dir, f\"autoenc_reconstruct_{latent_dim}.pth\"), weights_only=True))\n",
    "autoenc1.requires_grad_(False)\n",
    "\n",
    "encoder1 = autoenc1.get_submodule(\"encoder\").requires_grad_(False)\n",
    "decoder1 = autoenc1.get_submodule(\"decoder\").requires_grad_(False)"
   ]
  },
  {
   "cell_type": "code",
   "execution_count": 125,
   "metadata": {},
   "outputs": [],
   "source": [
    "# Load the trained autoencoder step 2\n",
    "autoenc2 = DenseAutoencoder2(n, latent_dim)\n",
    "autoenc2.load_state_dict(torch.load(os.path.join(data_dir, f\"autoenc_disentangle2_{latent_dim}.pth\"), weights_only=True))\n",
    "autoenc2.requires_grad_(False)\n",
    "\n",
    "encoder2 = autoenc2.get_submodule(\"encoder\").requires_grad_(False)\n",
    "decoder2 = autoenc2.get_submodule(\"decoder\").requires_grad_(False)"
   ]
  },
  {
   "cell_type": "code",
   "execution_count": 126,
   "metadata": {},
   "outputs": [],
   "source": [
    "encoder = torch.nn.Sequential(encoder1, encoder2)\n",
    "decoder = torch.nn.Sequential(decoder2, decoder1)"
   ]
  },
  {
   "cell_type": "code",
   "execution_count": 127,
   "metadata": {},
   "outputs": [
    {
     "name": "stdout",
     "output_type": "stream",
     "text": [
      "z_mcc = np.float32(0.5940633)\n"
     ]
    }
   ],
   "source": [
    "### Part 2: Analysis\n",
    "\n",
    "## Latent variables recovery\n",
    "# Mean correlation coefficient\n",
    "zhats_obs = encoder(xs_obs)\n",
    "assert isinstance(zhats_obs, Tensor)\n",
    "z_mcc = utils.mcc(zhats_obs.detach().cpu().numpy(), zs_obs.detach().cpu().numpy())\n",
    "print(f\"{z_mcc = }\")"
   ]
  },
  {
   "cell_type": "markdown",
   "metadata": {},
   "source": [
    "See tensor(6256) for overlap"
   ]
  },
  {
   "cell_type": "code",
   "execution_count": 128,
   "metadata": {},
   "outputs": [
    {
     "data": {
      "text/plain": [
       "tensor(2073)"
      ]
     },
     "execution_count": 128,
     "metadata": {},
     "output_type": "execute_result"
    }
   ],
   "source": [
    "idx = torch.randint(0, zs_obs.shape[0], ())\n",
    "idx"
   ]
  },
  {
   "cell_type": "code",
   "execution_count": 129,
   "metadata": {},
   "outputs": [],
   "source": [
    "zhat_idx = encoder(xs_obs[idx:idx+1])[0]\n",
    "xhat_idx = decoder(zhat_idx.unsqueeze(0))[0]"
   ]
  },
  {
   "cell_type": "code",
   "execution_count": 130,
   "metadata": {},
   "outputs": [
    {
     "data": {
      "text/plain": [
       "<matplotlib.image.AxesImage at 0x7f635149ca50>"
      ]
     },
     "execution_count": 130,
     "metadata": {},
     "output_type": "execute_result"
    },
    {
     "data": {
      "image/png": "[encoded data removed]",
      "text/plain": [
       "<Figure size 640x480 with 1 Axes>"
      ]
     },
     "metadata": {},
     "output_type": "display_data"
    }
   ],
   "source": [
    "import matplotlib.pyplot as plt\n",
    "\n",
    "plt.imshow(xhat_idx.detach().cpu().moveaxis(-3, -1).numpy())"
   ]
  },
  {
   "cell_type": "code",
   "execution_count": 131,
   "metadata": {},
   "outputs": [
    {
     "data": {
      "text/plain": [
       "<matplotlib.image.AxesImage at 0x7f63513239d0>"
      ]
     },
     "execution_count": 131,
     "metadata": {},
     "output_type": "execute_result"
    },
    {
     "data": {
      "image/png": "[encoded data removed]",
      "text/plain": [
       "<Figure size 640x480 with 1 Axes>"
      ]
     },
     "metadata": {},
     "output_type": "display_data"
    }
   ],
   "source": [
    "plt.imshow(xs_obs[idx].detach().cpu().moveaxis(-3, -1).numpy())"
   ]
  },
  {
   "cell_type": "code",
   "execution_count": 132,
   "metadata": {},
   "outputs": [
    {
     "data": {
      "text/plain": [
       "(tensor([[-0.2447, -0.1873, -0.3058, -0.0640, -0.4820, -0.1218],\n",
       "         [-0.4220,  0.0389, -0.1499,  0.0599, -0.4004,  0.1245],\n",
       "         [-0.2891,  0.1641,  0.4887,  0.3016,  0.2038, -0.4741],\n",
       "         [ 0.4978, -0.0373, -0.0117, -0.1052, -0.3175,  0.1177],\n",
       "         [-0.0349,  0.3333, -0.2572,  0.2673, -0.3485, -0.1109],\n",
       "         [-0.1917,  0.0231,  0.1623, -0.2657,  0.1474,  0.2621],\n",
       "         [ 0.2605,  0.3943, -0.0209, -0.1354,  0.3394, -0.2437],\n",
       "         [ 0.4353, -0.2990,  0.2595, -0.1460,  0.2303,  0.0679],\n",
       "         [ 0.1649,  0.4964,  0.3130, -0.0583, -0.3802,  0.4139],\n",
       "         [ 0.1021,  0.3934, -0.1169, -0.4677,  0.2859, -0.3870]]),\n",
       " tensor([[ 0.1766,  0.6599,  0.7038, -0.2132, -0.4477, -0.1251],\n",
       "         [ 0.5298,  0.7435,  0.3660, -0.4531, -0.0670,  0.2487],\n",
       "         [-0.8792, -0.2589, -0.6353,  0.3011, -0.4039, -0.3861],\n",
       "         [ 0.5921,  0.7024,  0.1779, -0.3197,  0.1852, -0.5602],\n",
       "         [-0.1186,  0.9072,  0.3179, -0.1666, -0.1376,  0.9333],\n",
       "         [ 0.6881, -0.5902, -0.3974,  0.1058,  0.3094, -0.7505],\n",
       "         [-0.6189, -0.7134,  0.2994, -0.2984, -0.0728, -0.6411],\n",
       "         [ 0.0855, -0.6503, -0.3795, -0.1686,  0.2942, -0.7017],\n",
       "         [ 0.7582,  0.3309, -0.5607, -0.3122, -0.5305, -0.3122],\n",
       "         [-0.7783, -0.4659,  0.1667,  0.5073, -0.2752, -0.7029]]))"
      ]
     },
     "execution_count": 132,
     "metadata": {},
     "output_type": "execute_result"
    }
   ],
   "source": [
    "zs_obs[:10], zhats_obs[:10]"
   ]
  }
 ],
 "metadata": {
  "kernelspec": {
   "display_name": "python-2024-10",
   "language": "python",
   "name": "python3"
  },
  "language_info": {
   "codemirror_mode": {
    "name": "ipython",
    "version": 3
   },
   "file_extension": ".py",
   "mimetype": "text/x-python",
   "name": "python",
   "nbconvert_exporter": "python",
   "pygments_lexer": "ipython3",
   "version": "3.11.10"
  }
 },
 "nbformat": 4,
 "nbformat_minor": 2
}
